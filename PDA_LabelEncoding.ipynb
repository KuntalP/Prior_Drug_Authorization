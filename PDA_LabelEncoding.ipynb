{
 "cells": [
  {
   "cell_type": "code",
   "execution_count": 3,
   "metadata": {},
   "outputs": [],
   "source": [
    "import pandas as pd\n",
    "import numpy as np\n",
    "import matplotlib.pyplot as plt\n",
    "import seaborn as sns"
   ]
  },
  {
   "cell_type": "code",
   "execution_count": 4,
   "metadata": {},
   "outputs": [],
   "source": [
    "df = pd.read_excel(\"C:\\\\Users\\\\UrMili\\\\Google Drive\\\\INSOFE\\\\Group Project_ML\\\\20190831_Batch64_CSE7305c_Group_UseCases\\\\Problem1\\\\PA_Data.xlsx\")"
   ]
  },
  {
   "cell_type": "code",
   "execution_count": 5,
   "metadata": {
    "scrolled": true
   },
   "outputs": [
    {
     "data": {
      "text/html": [
       "<div>\n",
       "<style scoped>\n",
       "    .dataframe tbody tr th:only-of-type {\n",
       "        vertical-align: middle;\n",
       "    }\n",
       "\n",
       "    .dataframe tbody tr th {\n",
       "        vertical-align: top;\n",
       "    }\n",
       "\n",
       "    .dataframe thead th {\n",
       "        text-align: right;\n",
       "    }\n",
       "</style>\n",
       "<table border=\"1\" class=\"dataframe\">\n",
       "  <thead>\n",
       "    <tr style=\"text-align: right;\">\n",
       "      <th></th>\n",
       "      <th>UserID</th>\n",
       "      <th>Drug</th>\n",
       "      <th>DrugSubClass</th>\n",
       "      <th>DrugClass</th>\n",
       "      <th>Drug_Chemical_Name</th>\n",
       "      <th>GPI</th>\n",
       "      <th>NDC</th>\n",
       "      <th>DrugGroup</th>\n",
       "      <th>DoctorID</th>\n",
       "      <th>RxGroupId</th>\n",
       "      <th>Bin</th>\n",
       "      <th>PCN</th>\n",
       "      <th>State</th>\n",
       "      <th>TransDate</th>\n",
       "      <th>Target</th>\n",
       "    </tr>\n",
       "  </thead>\n",
       "  <tbody>\n",
       "    <tr>\n",
       "      <th>0</th>\n",
       "      <td>C12662</td>\n",
       "      <td>Drug114</td>\n",
       "      <td>DSC082</td>\n",
       "      <td>DC078</td>\n",
       "      <td>DCN100</td>\n",
       "      <td>DGPI194</td>\n",
       "      <td>NDC228</td>\n",
       "      <td>DG048</td>\n",
       "      <td>PH1924</td>\n",
       "      <td>G652</td>\n",
       "      <td>B090</td>\n",
       "      <td>PCN0166</td>\n",
       "      <td>State19</td>\n",
       "      <td>2013-08-02</td>\n",
       "      <td>True</td>\n",
       "    </tr>\n",
       "    <tr>\n",
       "      <th>1</th>\n",
       "      <td>C10260</td>\n",
       "      <td>Drug188</td>\n",
       "      <td>DSC120</td>\n",
       "      <td>DC112</td>\n",
       "      <td>DCN156</td>\n",
       "      <td>DGPI203</td>\n",
       "      <td>NDC238</td>\n",
       "      <td>DG049</td>\n",
       "      <td>PH0254</td>\n",
       "      <td>G018</td>\n",
       "      <td>B014</td>\n",
       "      <td>PCN0005</td>\n",
       "      <td>State4</td>\n",
       "      <td>2013-07-25</td>\n",
       "      <td>False</td>\n",
       "    </tr>\n",
       "    <tr>\n",
       "      <th>2</th>\n",
       "      <td>C11997</td>\n",
       "      <td>Drug237</td>\n",
       "      <td>DSC040</td>\n",
       "      <td>DC038</td>\n",
       "      <td>DCN189</td>\n",
       "      <td>DGPI262</td>\n",
       "      <td>NDC323</td>\n",
       "      <td>DG031</td>\n",
       "      <td>PH1458</td>\n",
       "      <td>G481</td>\n",
       "      <td>B036</td>\n",
       "      <td>PCN0005</td>\n",
       "      <td>State2</td>\n",
       "      <td>2013-07-25</td>\n",
       "      <td>False</td>\n",
       "    </tr>\n",
       "    <tr>\n",
       "      <th>3</th>\n",
       "      <td>C10489</td>\n",
       "      <td>Drug167</td>\n",
       "      <td>DSC035</td>\n",
       "      <td>DC033</td>\n",
       "      <td>DCN141</td>\n",
       "      <td>DGPI329</td>\n",
       "      <td>NDC430</td>\n",
       "      <td>DG027</td>\n",
       "      <td>PH0483</td>\n",
       "      <td>G135</td>\n",
       "      <td>B003</td>\n",
       "      <td>PCN0003</td>\n",
       "      <td>State13</td>\n",
       "      <td>2013-07-28</td>\n",
       "      <td>True</td>\n",
       "    </tr>\n",
       "    <tr>\n",
       "      <th>4</th>\n",
       "      <td>C11209</td>\n",
       "      <td>Drug019</td>\n",
       "      <td>DSC017</td>\n",
       "      <td>DC004</td>\n",
       "      <td>DCN019</td>\n",
       "      <td>DGPI019</td>\n",
       "      <td>NDC020</td>\n",
       "      <td>DG004</td>\n",
       "      <td>PH0994</td>\n",
       "      <td>G231</td>\n",
       "      <td>B055</td>\n",
       "      <td>PCN0078</td>\n",
       "      <td>State22</td>\n",
       "      <td>2013-08-04</td>\n",
       "      <td>False</td>\n",
       "    </tr>\n",
       "  </tbody>\n",
       "</table>\n",
       "</div>"
      ],
      "text/plain": [
       "   UserID     Drug DrugSubClass DrugClass Drug_Chemical_Name      GPI     NDC  \\\n",
       "0  C12662  Drug114       DSC082     DC078             DCN100  DGPI194  NDC228   \n",
       "1  C10260  Drug188       DSC120     DC112             DCN156  DGPI203  NDC238   \n",
       "2  C11997  Drug237       DSC040     DC038             DCN189  DGPI262  NDC323   \n",
       "3  C10489  Drug167       DSC035     DC033             DCN141  DGPI329  NDC430   \n",
       "4  C11209  Drug019       DSC017     DC004             DCN019  DGPI019  NDC020   \n",
       "\n",
       "  DrugGroup DoctorID RxGroupId   Bin      PCN    State  TransDate  Target  \n",
       "0     DG048   PH1924      G652  B090  PCN0166  State19 2013-08-02    True  \n",
       "1     DG049   PH0254      G018  B014  PCN0005   State4 2013-07-25   False  \n",
       "2     DG031   PH1458      G481  B036  PCN0005   State2 2013-07-25   False  \n",
       "3     DG027   PH0483      G135  B003  PCN0003  State13 2013-07-28    True  \n",
       "4     DG004   PH0994      G231  B055  PCN0078  State22 2013-08-04   False  "
      ]
     },
     "execution_count": 5,
     "metadata": {},
     "output_type": "execute_result"
    }
   ],
   "source": [
    "df.head()"
   ]
  },
  {
   "cell_type": "code",
   "execution_count": 6,
   "metadata": {},
   "outputs": [
    {
     "data": {
      "text/plain": [
       "Index(['UserID', 'Drug', 'DrugSubClass', 'DrugClass', 'Drug_Chemical_Name',\n",
       "       'GPI', 'NDC', 'DrugGroup', 'DoctorID', 'RxGroupId', 'Bin', 'PCN',\n",
       "       'State', 'TransDate', 'Target'],\n",
       "      dtype='object')"
      ]
     },
     "execution_count": 6,
     "metadata": {},
     "output_type": "execute_result"
    }
   ],
   "source": [
    "df.columns"
   ]
  },
  {
   "cell_type": "code",
   "execution_count": 7,
   "metadata": {},
   "outputs": [
    {
     "data": {
      "text/plain": [
       "UserID                0\n",
       "Drug                  0\n",
       "DrugSubClass          0\n",
       "DrugClass             0\n",
       "Drug_Chemical_Name    0\n",
       "GPI                   0\n",
       "NDC                   0\n",
       "DrugGroup             0\n",
       "DoctorID              0\n",
       "RxGroupId             0\n",
       "Bin                   0\n",
       "PCN                   0\n",
       "State                 0\n",
       "TransDate             0\n",
       "Target                0\n",
       "dtype: int64"
      ]
     },
     "execution_count": 7,
     "metadata": {},
     "output_type": "execute_result"
    }
   ],
   "source": [
    "df.isna().sum()"
   ]
  },
  {
   "cell_type": "code",
   "execution_count": 8,
   "metadata": {},
   "outputs": [
    {
     "data": {
      "text/plain": [
       "UserID                        object\n",
       "Drug                          object\n",
       "DrugSubClass                  object\n",
       "DrugClass                     object\n",
       "Drug_Chemical_Name            object\n",
       "GPI                           object\n",
       "NDC                           object\n",
       "DrugGroup                     object\n",
       "DoctorID                      object\n",
       "RxGroupId                     object\n",
       "Bin                           object\n",
       "PCN                           object\n",
       "State                         object\n",
       "TransDate             datetime64[ns]\n",
       "Target                          bool\n",
       "dtype: object"
      ]
     },
     "execution_count": 8,
     "metadata": {},
     "output_type": "execute_result"
    }
   ],
   "source": [
    "df.dtypes"
   ]
  },
  {
   "cell_type": "code",
   "execution_count": 9,
   "metadata": {},
   "outputs": [],
   "source": [
    "for i in df.columns:\n",
    "    if df[i].dtypes == 'object':\n",
    "        df[i] = df[i].astype('category')\n",
    "        \n",
    "df['Target'] = df[\"Target\"].astype('int')"
   ]
  },
  {
   "cell_type": "code",
   "execution_count": 10,
   "metadata": {},
   "outputs": [
    {
     "data": {
      "text/plain": [
       "UserID                      category\n",
       "Drug                        category\n",
       "DrugSubClass                category\n",
       "DrugClass                   category\n",
       "Drug_Chemical_Name          category\n",
       "GPI                         category\n",
       "NDC                         category\n",
       "DrugGroup                   category\n",
       "DoctorID                    category\n",
       "RxGroupId                   category\n",
       "Bin                         category\n",
       "PCN                         category\n",
       "State                       category\n",
       "TransDate             datetime64[ns]\n",
       "Target                         int32\n",
       "dtype: object"
      ]
     },
     "execution_count": 10,
     "metadata": {},
     "output_type": "execute_result"
    }
   ],
   "source": [
    "df.dtypes"
   ]
  },
  {
   "cell_type": "code",
   "execution_count": 11,
   "metadata": {},
   "outputs": [
    {
     "data": {
      "text/plain": [
       "UserID                2682\n",
       "Drug                   742\n",
       "DrugSubClass           310\n",
       "DrugClass              249\n",
       "Drug_Chemical_Name     489\n",
       "GPI                    974\n",
       "NDC                   1609\n",
       "DrugGroup               77\n",
       "DoctorID              2468\n",
       "RxGroupId              849\n",
       "Bin                     97\n",
       "PCN                    196\n",
       "State                   47\n",
       "TransDate               17\n",
       "Target                   2\n",
       "dtype: int64"
      ]
     },
     "execution_count": 11,
     "metadata": {},
     "output_type": "execute_result"
    }
   ],
   "source": [
    "df.nunique()"
   ]
  },
  {
   "cell_type": "code",
   "execution_count": 12,
   "metadata": {},
   "outputs": [
    {
     "data": {
      "text/plain": [
       "<matplotlib.axes._subplots.AxesSubplot at 0x16e8a9e8668>"
      ]
     },
     "execution_count": 12,
     "metadata": {},
     "output_type": "execute_result"
    },
    {
     "data": {
      "image/png": "[encoded data removed]",
      "text/plain": [
       "<Figure size 432x288 with 1 Axes>"
      ]
     },
     "metadata": {
      "needs_background": "light"
     },
     "output_type": "display_data"
    }
   ],
   "source": [
    "sns.countplot(x = 'Target', data = df)"
   ]
  },
  {
   "cell_type": "code",
   "execution_count": 13,
   "metadata": {},
   "outputs": [
    {
     "data": {
      "text/html": [
       "<div>\n",
       "<style scoped>\n",
       "    .dataframe tbody tr th:only-of-type {\n",
       "        vertical-align: middle;\n",
       "    }\n",
       "\n",
       "    .dataframe tbody tr th {\n",
       "        vertical-align: top;\n",
       "    }\n",
       "\n",
       "    .dataframe thead th {\n",
       "        text-align: right;\n",
       "    }\n",
       "</style>\n",
       "<table border=\"1\" class=\"dataframe\">\n",
       "  <thead>\n",
       "    <tr style=\"text-align: right;\">\n",
       "      <th></th>\n",
       "      <th>UserID</th>\n",
       "      <th>Drug</th>\n",
       "      <th>DrugSubClass</th>\n",
       "      <th>DrugClass</th>\n",
       "      <th>Drug_Chemical_Name</th>\n",
       "      <th>GPI</th>\n",
       "      <th>NDC</th>\n",
       "      <th>DrugGroup</th>\n",
       "      <th>DoctorID</th>\n",
       "      <th>RxGroupId</th>\n",
       "      <th>...</th>\n",
       "      <th>DrugClass_id</th>\n",
       "      <th>Drug_id</th>\n",
       "      <th>Drug_Chemical_Name_id</th>\n",
       "      <th>GPI_id</th>\n",
       "      <th>NDC_id</th>\n",
       "      <th>DrugGroup_id</th>\n",
       "      <th>DrugSubClass_id</th>\n",
       "      <th>State_id</th>\n",
       "      <th>PCN_id</th>\n",
       "      <th>Bin_id</th>\n",
       "    </tr>\n",
       "  </thead>\n",
       "  <tbody>\n",
       "    <tr>\n",
       "      <th>0</th>\n",
       "      <td>C12662</td>\n",
       "      <td>Drug114</td>\n",
       "      <td>DSC082</td>\n",
       "      <td>DC078</td>\n",
       "      <td>DCN100</td>\n",
       "      <td>DGPI194</td>\n",
       "      <td>NDC228</td>\n",
       "      <td>DG048</td>\n",
       "      <td>PH1924</td>\n",
       "      <td>G652</td>\n",
       "      <td>...</td>\n",
       "      <td>078</td>\n",
       "      <td>114</td>\n",
       "      <td>100</td>\n",
       "      <td>194</td>\n",
       "      <td>228</td>\n",
       "      <td>048</td>\n",
       "      <td>082</td>\n",
       "      <td>19</td>\n",
       "      <td>0166</td>\n",
       "      <td>090</td>\n",
       "    </tr>\n",
       "    <tr>\n",
       "      <th>1</th>\n",
       "      <td>C10260</td>\n",
       "      <td>Drug188</td>\n",
       "      <td>DSC120</td>\n",
       "      <td>DC112</td>\n",
       "      <td>DCN156</td>\n",
       "      <td>DGPI203</td>\n",
       "      <td>NDC238</td>\n",
       "      <td>DG049</td>\n",
       "      <td>PH0254</td>\n",
       "      <td>G018</td>\n",
       "      <td>...</td>\n",
       "      <td>112</td>\n",
       "      <td>188</td>\n",
       "      <td>156</td>\n",
       "      <td>203</td>\n",
       "      <td>238</td>\n",
       "      <td>049</td>\n",
       "      <td>120</td>\n",
       "      <td>4</td>\n",
       "      <td>0005</td>\n",
       "      <td>014</td>\n",
       "    </tr>\n",
       "  </tbody>\n",
       "</table>\n",
       "<p>2 rows × 25 columns</p>\n",
       "</div>"
      ],
      "text/plain": [
       "   UserID     Drug DrugSubClass DrugClass Drug_Chemical_Name      GPI     NDC  \\\n",
       "0  C12662  Drug114       DSC082     DC078             DCN100  DGPI194  NDC228   \n",
       "1  C10260  Drug188       DSC120     DC112             DCN156  DGPI203  NDC238   \n",
       "\n",
       "  DrugGroup DoctorID RxGroupId  ... DrugClass_id Drug_id  \\\n",
       "0     DG048   PH1924      G652  ...          078     114   \n",
       "1     DG049   PH0254      G018  ...          112     188   \n",
       "\n",
       "  Drug_Chemical_Name_id GPI_id  NDC_id DrugGroup_id DrugSubClass_id State_id  \\\n",
       "0                   100    194     228          048             082       19   \n",
       "1                   156    203     238          049             120        4   \n",
       "\n",
       "  PCN_id Bin_id  \n",
       "0   0166    090  \n",
       "1   0005    014  \n",
       "\n",
       "[2 rows x 25 columns]"
      ]
     },
     "execution_count": 13,
     "metadata": {},
     "output_type": "execute_result"
    }
   ],
   "source": [
    "df[\"DrugClass_id\"] = df[\"DrugClass\"].str.split(\"C\", expand = True)[1]\n",
    "df[\"Drug_id\"] = df[\"Drug\"].str.split(\"g\", expand=True)[1]\n",
    "df[\"Drug_Chemical_Name_id\"] = df[\"Drug_Chemical_Name\"].str.split(\"N\", expand = True)[1]\n",
    "df[\"GPI_id\"]= df[\"GPI\"].str.split(\"I\",expand = True)[1]\n",
    "df[\"NDC_id\"]= df[\"NDC\"].str.split(\"C\",expand=True)[1]\n",
    "df[\"DrugGroup_id\"]= df[\"DrugGroup\"].str.split(\"G\", expand = True)[1]\n",
    "df[\"DrugSubClass_id\"] = df[\"DrugSubClass\"].str.split(\"C\",expand=True)[1]\n",
    "df[\"State_id\"] = df[\"State\"].str.split(\"e\",expand=True)[1]\n",
    "df[\"PCN_id\"]=df[\"PCN\"].str.split(\"N\",expand=True)[1]\n",
    "df[\"Bin_id\"]= df[\"Bin\"].str.split(\"B\",expand=True)[1]\n",
    "df.head(2)"
   ]
  },
  {
   "cell_type": "code",
   "execution_count": 14,
   "metadata": {},
   "outputs": [],
   "source": [
    "df['grouped_id']=df['DrugGroup_id'].astype(\"str\")+df['DrugClass_id'].astype(\"str\")+df['DrugSubClass_id'].astype(\"str\")+df['Drug_Chemical_Name_id'].astype(\"str\")"
   ]
  },
  {
   "cell_type": "code",
   "execution_count": 15,
   "metadata": {},
   "outputs": [
    {
     "data": {
      "text/plain": [
       "array(['2013-08-02T00:00:00.000000000', '2013-07-25T00:00:00.000000000',\n",
       "       '2013-07-28T00:00:00.000000000', '2013-08-04T00:00:00.000000000',\n",
       "       '2013-07-31T00:00:00.000000000', '2013-08-05T00:00:00.000000000',\n",
       "       '2013-07-30T00:00:00.000000000', '2013-08-01T00:00:00.000000000',\n",
       "       '2013-08-07T00:00:00.000000000', '2013-07-29T00:00:00.000000000',\n",
       "       '2013-07-22T00:00:00.000000000', '2013-07-24T00:00:00.000000000',\n",
       "       '2013-08-06T00:00:00.000000000', '2013-08-03T00:00:00.000000000',\n",
       "       '2013-07-26T00:00:00.000000000', '2013-07-23T00:00:00.000000000',\n",
       "       '2013-07-27T00:00:00.000000000'], dtype='datetime64[ns]')"
      ]
     },
     "execution_count": 15,
     "metadata": {},
     "output_type": "execute_result"
    }
   ],
   "source": [
    "df['TransDate'].unique()"
   ]
  },
  {
   "cell_type": "code",
   "execution_count": 16,
   "metadata": {},
   "outputs": [
    {
     "data": {
      "text/plain": [
       "array([4, 3, 6, 2, 0, 1, 5], dtype=int64)"
      ]
     },
     "execution_count": 16,
     "metadata": {},
     "output_type": "execute_result"
    }
   ],
   "source": [
    "df[\"Weekday\"] = df['TransDate'].dt.dayofweek\n",
    "df[\"Weekday\"].unique()"
   ]
  },
  {
   "cell_type": "code",
   "execution_count": 17,
   "metadata": {},
   "outputs": [
    {
     "data": {
      "text/plain": [
       "array([8, 7], dtype=int64)"
      ]
     },
     "execution_count": 17,
     "metadata": {},
     "output_type": "execute_result"
    }
   ],
   "source": [
    "df['Month'] = df['TransDate'].dt.month\n",
    "df['Month'].unique()"
   ]
  },
  {
   "cell_type": "code",
   "execution_count": 18,
   "metadata": {},
   "outputs": [
    {
     "data": {
      "text/plain": [
       "array([ 2, 25, 28,  4, 31,  5, 30,  1,  7, 29, 22, 24,  6,  3, 26, 23, 27],\n",
       "      dtype=int64)"
      ]
     },
     "execution_count": 18,
     "metadata": {},
     "output_type": "execute_result"
    }
   ],
   "source": [
    "df['Day_of_Month'] = df['TransDate'].dt.day\n",
    "df['Day_of_Month'].unique()"
   ]
  },
  {
   "cell_type": "code",
   "execution_count": 19,
   "metadata": {},
   "outputs": [
    {
     "data": {
      "text/html": [
       "<div>\n",
       "<style scoped>\n",
       "    .dataframe tbody tr th:only-of-type {\n",
       "        vertical-align: middle;\n",
       "    }\n",
       "\n",
       "    .dataframe tbody tr th {\n",
       "        vertical-align: top;\n",
       "    }\n",
       "\n",
       "    .dataframe thead th {\n",
       "        text-align: right;\n",
       "    }\n",
       "</style>\n",
       "<table border=\"1\" class=\"dataframe\">\n",
       "  <thead>\n",
       "    <tr style=\"text-align: right;\">\n",
       "      <th></th>\n",
       "      <th>Target</th>\n",
       "      <th>Drug_id</th>\n",
       "      <th>GPI_id</th>\n",
       "      <th>NDC_id</th>\n",
       "      <th>State_id</th>\n",
       "      <th>PCN_id</th>\n",
       "      <th>Bin_id</th>\n",
       "      <th>grouped_id</th>\n",
       "      <th>Weekday</th>\n",
       "      <th>Month</th>\n",
       "      <th>Day_of_Month</th>\n",
       "    </tr>\n",
       "  </thead>\n",
       "  <tbody>\n",
       "    <tr>\n",
       "      <th>0</th>\n",
       "      <td>1</td>\n",
       "      <td>114</td>\n",
       "      <td>194</td>\n",
       "      <td>228</td>\n",
       "      <td>19</td>\n",
       "      <td>0166</td>\n",
       "      <td>090</td>\n",
       "      <td>048078082100</td>\n",
       "      <td>4</td>\n",
       "      <td>8</td>\n",
       "      <td>2</td>\n",
       "    </tr>\n",
       "    <tr>\n",
       "      <th>1</th>\n",
       "      <td>0</td>\n",
       "      <td>188</td>\n",
       "      <td>203</td>\n",
       "      <td>238</td>\n",
       "      <td>4</td>\n",
       "      <td>0005</td>\n",
       "      <td>014</td>\n",
       "      <td>049112120156</td>\n",
       "      <td>3</td>\n",
       "      <td>7</td>\n",
       "      <td>25</td>\n",
       "    </tr>\n",
       "  </tbody>\n",
       "</table>\n",
       "</div>"
      ],
      "text/plain": [
       "   Target Drug_id GPI_id NDC_id State_id PCN_id Bin_id    grouped_id  Weekday  \\\n",
       "0       1     114    194    228       19   0166    090  048078082100        4   \n",
       "1       0     188    203    238        4   0005    014  049112120156        3   \n",
       "\n",
       "   Month  Day_of_Month  \n",
       "0      8             2  \n",
       "1      7            25  "
      ]
     },
     "execution_count": 19,
     "metadata": {},
     "output_type": "execute_result"
    }
   ],
   "source": [
    "data = df.drop(['TransDate','RxGroupId', \"DrugClass\",\"Drug\",\"Drug_Chemical_Name\",\"GPI\",\"NDC\",\"DrugGroup\",\"DrugSubClass\",\"State\",\"PCN\",\"Bin\", 'UserID', 'DoctorID', 'DrugClass_id', 'DrugGroup_id', 'DrugSubClass_id', 'Drug_Chemical_Name_id'], axis = 1)\n",
    "data.head(2)"
   ]
  },
  {
   "cell_type": "code",
   "execution_count": 20,
   "metadata": {},
   "outputs": [
    {
     "data": {
      "text/plain": [
       "(9393, 11)"
      ]
     },
     "execution_count": 20,
     "metadata": {},
     "output_type": "execute_result"
    }
   ],
   "source": [
    "data.shape"
   ]
  },
  {
   "cell_type": "code",
   "execution_count": 21,
   "metadata": {},
   "outputs": [
    {
     "data": {
      "text/html": [
       "<div>\n",
       "<style scoped>\n",
       "    .dataframe tbody tr th:only-of-type {\n",
       "        vertical-align: middle;\n",
       "    }\n",
       "\n",
       "    .dataframe tbody tr th {\n",
       "        vertical-align: top;\n",
       "    }\n",
       "\n",
       "    .dataframe thead th {\n",
       "        text-align: right;\n",
       "    }\n",
       "</style>\n",
       "<table border=\"1\" class=\"dataframe\">\n",
       "  <thead>\n",
       "    <tr style=\"text-align: right;\">\n",
       "      <th></th>\n",
       "      <th>Target</th>\n",
       "      <th>Drug_id</th>\n",
       "      <th>GPI_id</th>\n",
       "      <th>NDC_id</th>\n",
       "      <th>State_id</th>\n",
       "      <th>PCN_id</th>\n",
       "      <th>Bin_id</th>\n",
       "      <th>grouped_id</th>\n",
       "      <th>Weekday</th>\n",
       "      <th>Month</th>\n",
       "      <th>Day_of_Month</th>\n",
       "    </tr>\n",
       "  </thead>\n",
       "  <tbody>\n",
       "    <tr>\n",
       "      <th>6241</th>\n",
       "      <td>1</td>\n",
       "      <td>381</td>\n",
       "      <td>452</td>\n",
       "      <td>617</td>\n",
       "      <td>1</td>\n",
       "      <td>0023</td>\n",
       "      <td>018</td>\n",
       "      <td>043062065285</td>\n",
       "      <td>2</td>\n",
       "      <td>7</td>\n",
       "      <td>24</td>\n",
       "    </tr>\n",
       "    <tr>\n",
       "      <th>6714</th>\n",
       "      <td>0</td>\n",
       "      <td>739</td>\n",
       "      <td>990</td>\n",
       "      <td>1593</td>\n",
       "      <td>1</td>\n",
       "      <td>0008</td>\n",
       "      <td>008</td>\n",
       "      <td>049083087214</td>\n",
       "      <td>2</td>\n",
       "      <td>7</td>\n",
       "      <td>24</td>\n",
       "    </tr>\n",
       "    <tr>\n",
       "      <th>6708</th>\n",
       "      <td>1</td>\n",
       "      <td>041</td>\n",
       "      <td>044</td>\n",
       "      <td>048</td>\n",
       "      <td>1</td>\n",
       "      <td>0005</td>\n",
       "      <td>014</td>\n",
       "      <td>024029031037</td>\n",
       "      <td>0</td>\n",
       "      <td>8</td>\n",
       "      <td>5</td>\n",
       "    </tr>\n",
       "    <tr>\n",
       "      <th>6683</th>\n",
       "      <td>1</td>\n",
       "      <td>057</td>\n",
       "      <td>062</td>\n",
       "      <td>066</td>\n",
       "      <td>1</td>\n",
       "      <td>0179</td>\n",
       "      <td>016</td>\n",
       "      <td>021042045052</td>\n",
       "      <td>0</td>\n",
       "      <td>7</td>\n",
       "      <td>29</td>\n",
       "    </tr>\n",
       "    <tr>\n",
       "      <th>1217</th>\n",
       "      <td>1</td>\n",
       "      <td>107</td>\n",
       "      <td>323</td>\n",
       "      <td>1513</td>\n",
       "      <td>1</td>\n",
       "      <td>0179</td>\n",
       "      <td>016</td>\n",
       "      <td>008073077094</td>\n",
       "      <td>2</td>\n",
       "      <td>8</td>\n",
       "      <td>7</td>\n",
       "    </tr>\n",
       "  </tbody>\n",
       "</table>\n",
       "</div>"
      ],
      "text/plain": [
       "      Target Drug_id GPI_id NDC_id State_id PCN_id Bin_id    grouped_id  \\\n",
       "6241       1     381    452    617        1   0023    018  043062065285   \n",
       "6714       0     739    990   1593        1   0008    008  049083087214   \n",
       "6708       1     041    044    048        1   0005    014  024029031037   \n",
       "6683       1     057    062    066        1   0179    016  021042045052   \n",
       "1217       1     107    323   1513        1   0179    016  008073077094   \n",
       "\n",
       "      Weekday  Month  Day_of_Month  \n",
       "6241        2      7            24  \n",
       "6714        2      7            24  \n",
       "6708        0      8             5  \n",
       "6683        0      7            29  \n",
       "1217        2      8             7  "
      ]
     },
     "execution_count": 21,
     "metadata": {},
     "output_type": "execute_result"
    }
   ],
   "source": [
    "data = data.sort_values(by='State_id', ascending=True, axis = 0)\n",
    "data.head()"
   ]
  },
  {
   "cell_type": "code",
   "execution_count": 22,
   "metadata": {},
   "outputs": [
    {
     "name": "stdout",
     "output_type": "stream",
     "text": [
      "X.dtypes : \n",
      " Drug_id         object\n",
      "GPI_id          object\n",
      "NDC_id          object\n",
      "State_id        object\n",
      "PCN_id          object\n",
      "Bin_id          object\n",
      "grouped_id      object\n",
      "Weekday          int64\n",
      "Month            int64\n",
      "Day_of_Month     int64\n",
      "dtype: object \n",
      "\n",
      " y.dtypes : \n",
      " int32\n"
     ]
    }
   ],
   "source": [
    "X = data.drop('Target', axis = 1)\n",
    "y = data['Target']\n",
    "print('X.dtypes : \\n', X.dtypes, '\\n\\n y.dtypes : \\n', y.dtypes)"
   ]
  },
  {
   "cell_type": "code",
   "execution_count": 23,
   "metadata": {},
   "outputs": [
    {
     "name": "stdout",
     "output_type": "stream",
     "text": [
      "(9393,) \n",
      "\n",
      " 6241    1\n",
      "6714    0\n",
      "6708    1\n",
      "6683    1\n",
      "1217    1\n",
      "Name: Target, dtype: int32\n"
     ]
    }
   ],
   "source": [
    "print(y.shape , '\\n\\n', y.head())"
   ]
  },
  {
   "cell_type": "code",
   "execution_count": 24,
   "metadata": {},
   "outputs": [
    {
     "data": {
      "text/plain": [
       "Drug_id         category\n",
       "GPI_id          category\n",
       "NDC_id          category\n",
       "State_id        category\n",
       "PCN_id          category\n",
       "Bin_id          category\n",
       "grouped_id      category\n",
       "Weekday            int64\n",
       "Month              int64\n",
       "Day_of_Month       int64\n",
       "dtype: object"
      ]
     },
     "execution_count": 24,
     "metadata": {},
     "output_type": "execute_result"
    }
   ],
   "source": [
    "for i in X.columns:\n",
    "    if X[i].dtypes == 'object':\n",
    "        X[i] = X[i].astype('category')\n",
    "\n",
    "X.dtypes"
   ]
  },
  {
   "cell_type": "code",
   "execution_count": 25,
   "metadata": {},
   "outputs": [
    {
     "name": "stdout",
     "output_type": "stream",
     "text": [
      "      Drug_id  GPI_id  NDC_id  State_id  PCN_id  Bin_id  grouped_id  Weekday  \\\n",
      "6241      380     451    1226         0      22      17         362        2   \n",
      "6714      738     964     752         0       7       7         416        2   \n",
      "6708       40      43      47         0       4      13         251        0   \n",
      "6683       56      61      65         0     178      15         200        0   \n",
      "1217      106     322     664         0     178      15          39        2   \n",
      "\n",
      "      Month  Day_of_Month  \n",
      "6241      7            24  \n",
      "6714      7            24  \n",
      "6708      8             5  \n",
      "6683      7            29  \n",
      "1217      8             7  \n",
      "\n",
      "\n",
      "data dimensions : \n",
      " (9393, 10) \n",
      "\n",
      " data head : \n",
      "       Drug_id  GPI_id  NDC_id  State_id  PCN_id  Bin_id  grouped_id  Weekday  \\\n",
      "6241      380     451    1226         0      22      17         362        2   \n",
      "6714      738     964     752         0       7       7         416        2   \n",
      "6708       40      43      47         0       4      13         251        0   \n",
      "6683       56      61      65         0     178      15         200        0   \n",
      "1217      106     322     664         0     178      15          39        2   \n",
      "\n",
      "      Month  Day_of_Month  \n",
      "6241      7            24  \n",
      "6714      7            24  \n",
      "6708      8             5  \n",
      "6683      7            29  \n",
      "1217      8             7   \n",
      "\n",
      " Data types: \n",
      " Drug_id         int32\n",
      "GPI_id          int32\n",
      "NDC_id          int32\n",
      "State_id        int32\n",
      "PCN_id          int32\n",
      "Bin_id          int32\n",
      "grouped_id      int32\n",
      "Weekday         int64\n",
      "Month           int64\n",
      "Day_of_Month    int64\n",
      "dtype: object\n"
     ]
    }
   ],
   "source": [
    "from sklearn import preprocessing\n",
    "label_encoder = preprocessing.LabelEncoder()\n",
    "cat_cols = ['Drug_id', 'NDC_id', 'State_id', 'PCN_id', 'Bin_id', 'grouped_id',  'GPI_id']\n",
    "X_encoded = X\n",
    "X_encoded[cat_cols] = X[cat_cols].apply(lambda col: label_encoder.fit_transform(col))\n",
    "print(X_encoded.head())\n",
    "\n",
    "print('\\n\\ndata dimensions : \\n', X_encoded.shape , '\\n\\n data head : \\n', X_encoded.head(), '\\n\\n Data types: \\n', X_encoded.dtypes)"
   ]
  },
  {
   "cell_type": "code",
   "execution_count": 26,
   "metadata": {},
   "outputs": [],
   "source": [
    "from sklearn.model_selection import train_test_split"
   ]
  },
  {
   "cell_type": "code",
   "execution_count": 27,
   "metadata": {},
   "outputs": [
    {
     "name": "stdout",
     "output_type": "stream",
     "text": [
      "(9393, 10) (9393,)\n"
     ]
    }
   ],
   "source": [
    "print(X.shape , y.shape)"
   ]
  },
  {
   "cell_type": "code",
   "execution_count": 28,
   "metadata": {},
   "outputs": [
    {
     "name": "stdout",
     "output_type": "stream",
     "text": [
      "x_train dims:  (7514, 10) \n",
      "\n",
      " y_train : (7514,) \n",
      "\n",
      "x val x: (1879, 10) \n",
      "\n",
      " val y : (1879,)\n"
     ]
    }
   ],
   "source": [
    "train_x , val_x, train_y, val_y = train_test_split(X_encoded, y, stratify = y, test_size = 0.2, random_state = 2)\n",
    "print('x_train dims: ', train_x.shape, '\\n\\n y_train :', train_y.shape, '\\n\\nx val x:', val_x.shape, '\\n\\n val y :', val_y.shape)"
   ]
  },
  {
   "cell_type": "markdown",
   "metadata": {},
   "source": [
    "## Model Building"
   ]
  },
  {
   "cell_type": "markdown",
   "metadata": {},
   "source": [
    "### Logistic Regression"
   ]
  },
  {
   "cell_type": "code",
   "execution_count": 32,
   "metadata": {},
   "outputs": [],
   "source": [
    "from sklearn.linear_model import LogisticRegression"
   ]
  },
  {
   "cell_type": "code",
   "execution_count": 33,
   "metadata": {},
   "outputs": [],
   "source": [
    "# For evaluating our ML results\n",
    "from sklearn.metrics import classification_report,confusion_matrix,accuracy_score,recall_score,f1_score,precision_score\n",
    "from sklearn.metrics import roc_curve,log_loss,auc"
   ]
  },
  {
   "cell_type": "code",
   "execution_count": 50,
   "metadata": {},
   "outputs": [
    {
     "name": "stderr",
     "output_type": "stream",
     "text": [
      "C:\\Users\\UrMili\\Anaconda3\\lib\\site-packages\\sklearn\\linear_model\\logistic.py:433: FutureWarning: Default solver will be changed to 'lbfgs' in 0.22. Specify a solver to silence this warning.\n",
      "  FutureWarning)\n"
     ]
    },
    {
     "data": {
      "text/plain": [
       "LogisticRegression(C=1.0, class_weight=None, dual=False, fit_intercept=True,\n",
       "          intercept_scaling=1, max_iter=100, multi_class='warn',\n",
       "          n_jobs=None, penalty='l2', random_state=None, solver='warn',\n",
       "          tol=0.0001, verbose=0, warm_start=False)"
      ]
     },
     "execution_count": 50,
     "metadata": {},
     "output_type": "execute_result"
    }
   ],
   "source": [
    "logreg = LogisticRegression()\n",
    "logreg.fit(train_x, train_y)"
   ]
  },
  {
   "cell_type": "code",
   "execution_count": 51,
   "metadata": {},
   "outputs": [],
   "source": [
    "y_pred = logreg.predict(val_x)"
   ]
  },
  {
   "cell_type": "code",
   "execution_count": 52,
   "metadata": {},
   "outputs": [
    {
     "name": "stdout",
     "output_type": "stream",
     "text": [
      "=========================== \n",
      "\n",
      " Confusion Matrix\n",
      "\n",
      " [[  16  628]\n",
      " [  24 1211]]\n",
      "\n",
      "\n",
      "========================== \n",
      "\n",
      " Accuracy Score\n",
      "\n",
      " 0.6530069185737094\n",
      "\n",
      "\n",
      "========================== \n",
      "\n",
      " F1 Score for Class 0\n",
      "\n",
      " 0.04678362573099415\n",
      "\n",
      "\n",
      "========================== \n",
      "\n",
      " F1 Score for Class 1\n",
      "\n",
      " 0.7878985035783994\n"
     ]
    }
   ],
   "source": [
    "print(\"=========================== \\n\\n Confusion Matrix\\n\\n\", confusion_matrix(val_y, y_pred))\n",
    "print(\"\\n\\n========================== \\n\\n Accuracy Score\\n\\n\", accuracy_score(val_y, y_pred))\n",
    "print(\"\\n\\n========================== \\n\\n F1 Score for Class 0\\n\\n\", f1_score(val_y, y_pred, pos_label=0))\n",
    "print(\"\\n\\n========================== \\n\\n F1 Score for Class 1\\n\\n\", f1_score(val_y, y_pred, pos_label=1))"
   ]
  },
  {
   "cell_type": "markdown",
   "metadata": {},
   "source": [
    "### Decision Tree"
   ]
  },
  {
   "cell_type": "code",
   "execution_count": 53,
   "metadata": {},
   "outputs": [],
   "source": [
    "from sklearn import tree"
   ]
  },
  {
   "cell_type": "code",
   "execution_count": 54,
   "metadata": {},
   "outputs": [
    {
     "data": {
      "text/plain": [
       "DecisionTreeClassifier(class_weight=None, criterion='entropy', max_depth=None,\n",
       "            max_features=None, max_leaf_nodes=None,\n",
       "            min_impurity_decrease=0.0, min_impurity_split=None,\n",
       "            min_samples_leaf=1, min_samples_split=2,\n",
       "            min_weight_fraction_leaf=0.0, presort=False, random_state=2,\n",
       "            splitter='best')"
      ]
     },
     "execution_count": 54,
     "metadata": {},
     "output_type": "execute_result"
    }
   ],
   "source": [
    "DT_classifier = tree.DecisionTreeClassifier(random_state=2, criterion = 'entropy')\n",
    "DT_classifier.fit(train_x, train_y)"
   ]
  },
  {
   "cell_type": "code",
   "execution_count": 55,
   "metadata": {},
   "outputs": [
    {
     "data": {
      "text/plain": [
       "<matplotlib.axes._subplots.AxesSubplot at 0x1f5a3782518>"
      ]
     },
     "execution_count": 55,
     "metadata": {},
     "output_type": "execute_result"
    },
    {
     "data": {
      "image/png": "[encoded data removed]",
      "text/plain": [
       "<Figure size 1440x720 with 1 Axes>"
      ]
     },
     "metadata": {
      "needs_background": "light"
     },
     "output_type": "display_data"
    }
   ],
   "source": [
    "imp_feature = pd.Series(DT_classifier.feature_importances_, index = train_x.columns)\n",
    "imp_ordered = imp_feature.nlargest(100)\n",
    "plt.rcParams['figure.figsize'] = (20,10)\n",
    "imp_ordered.plot(kind = 'bar')\n"
   ]
  },
  {
   "cell_type": "code",
   "execution_count": 56,
   "metadata": {},
   "outputs": [
    {
     "name": "stdout",
     "output_type": "stream",
     "text": [
      "\n",
      "\n",
      "6 Most important feautures: \n",
      "\n",
      " NDC_id          0.148486\n",
      "Day_of_Month    0.127683\n",
      "dtype: float64\n",
      "=========================================\n",
      "\n",
      "\n",
      "6 Least important features: \n",
      "\n",
      " Bin_id    0.087934\n",
      "Month     0.009808\n",
      "dtype: float64\n"
     ]
    }
   ],
   "source": [
    "print('\\n\\n6 Most important feautures: \\n\\n', imp_ordered.head(2))\n",
    "print('=========================================')\n",
    "print('\\n\\n6 Least important features: \\n\\n',imp_ordered.tail(2))"
   ]
  },
  {
   "cell_type": "code",
   "execution_count": 57,
   "metadata": {},
   "outputs": [],
   "source": [
    "pred_y = DT_classifier.predict(val_x)"
   ]
  },
  {
   "cell_type": "code",
   "execution_count": 58,
   "metadata": {},
   "outputs": [
    {
     "name": "stdout",
     "output_type": "stream",
     "text": [
      "=========================== \n",
      "\n",
      " Confusion Matrix\n",
      "\n",
      " [[305 339]\n",
      " [431 804]]\n",
      "\n",
      "\n",
      "========================== \n",
      "\n",
      " Accuracy Score\n",
      "\n",
      " 0.5902075572112826\n",
      "\n",
      "\n",
      "========================== \n",
      "\n",
      " F1 Score for Class 0\n",
      "\n",
      " 0.44202898550724634\n",
      "\n",
      "\n",
      "========================== \n",
      "\n",
      " F1 Score for Class 1\n",
      "\n",
      " 0.6761984861227923\n"
     ]
    }
   ],
   "source": [
    "print(\"=========================== \\n\\n Confusion Matrix\\n\\n\", confusion_matrix(val_y, pred_y))\n",
    "print(\"\\n\\n========================== \\n\\n Accuracy Score\\n\\n\", accuracy_score(val_y, pred_y))\n",
    "print(\"\\n\\n========================== \\n\\n F1 Score for Class 0\\n\\n\", f1_score(val_y, pred_y, pos_label=0))\n",
    "print(\"\\n\\n========================== \\n\\n F1 Score for Class 1\\n\\n\", f1_score(val_y, pred_y, pos_label=1))"
   ]
  },
  {
   "cell_type": "markdown",
   "metadata": {},
   "source": [
    "### Random Forest"
   ]
  },
  {
   "cell_type": "code",
   "execution_count": 59,
   "metadata": {},
   "outputs": [],
   "source": [
    "from sklearn.ensemble import RandomForestClassifier\n",
    "from sklearn.model_selection import RandomizedSearchCV"
   ]
  },
  {
   "cell_type": "code",
   "execution_count": 60,
   "metadata": {},
   "outputs": [],
   "source": [
    "RF_classifier = RandomForestClassifier(n_estimators=10, criterion='entropy', random_state=2)"
   ]
  },
  {
   "cell_type": "code",
   "execution_count": 61,
   "metadata": {},
   "outputs": [],
   "source": [
    "param_grid = {'n_estimators' : [5,7,9,11,13,15,17,19],\n",
    "             'max_depth' : [2,3,4,5,6,7,8,9,10,11,12],\n",
    "              \"min_samples_leaf\" : [5, 10, 15, 20],\n",
    "              \"class_weight\" : ['balanced','balanced_subsample']}"
   ]
  },
  {
   "cell_type": "code",
   "execution_count": 62,
   "metadata": {},
   "outputs": [],
   "source": [
    "rfc_cv = RandomizedSearchCV(estimator=RF_classifier, param_distributions=param_grid, n_iter=10,cv=4)"
   ]
  },
  {
   "cell_type": "code",
   "execution_count": 64,
   "metadata": {},
   "outputs": [
    {
     "data": {
      "text/plain": [
       "RandomizedSearchCV(cv=4, error_score='raise-deprecating',\n",
       "          estimator=RandomForestClassifier(bootstrap=True, class_weight=None, criterion='entropy',\n",
       "            max_depth=None, max_features='auto', max_leaf_nodes=None,\n",
       "            min_impurity_decrease=0.0, min_impurity_split=None,\n",
       "            min_samples_leaf=1, min_samples_split=2,\n",
       "            min_weight_fraction_leaf=0.0, n_estimators=10, n_jobs=None,\n",
       "            oob_score=False, random_state=2, verbose=0, warm_start=False),\n",
       "          fit_params=None, iid='warn', n_iter=10, n_jobs=None,\n",
       "          param_distributions={'n_estimators': [5, 7, 9, 11, 13, 15, 17, 19], 'max_depth': [2, 3, 4, 5, 6, 7, 8, 9, 10, 11, 12], 'min_samples_leaf': [5, 10, 15, 20], 'class_weight': ['balanced', 'balanced_subsample']},\n",
       "          pre_dispatch='2*n_jobs', random_state=None, refit=True,\n",
       "          return_train_score='warn', scoring=None, verbose=0)"
      ]
     },
     "execution_count": 64,
     "metadata": {},
     "output_type": "execute_result"
    }
   ],
   "source": [
    "rfc_cv.fit(train_x, train_y)"
   ]
  },
  {
   "cell_type": "code",
   "execution_count": 71,
   "metadata": {},
   "outputs": [
    {
     "data": {
      "text/plain": [
       "<matplotlib.axes._subplots.AxesSubplot at 0x1f5a0d7cb70>"
      ]
     },
     "execution_count": 71,
     "metadata": {},
     "output_type": "execute_result"
    },
    {
     "data": {
      "image/png": "[encoded data removed]",
      "text/plain": [
       "<Figure size 1440x720 with 1 Axes>"
      ]
     },
     "metadata": {
      "needs_background": "light"
     },
     "output_type": "display_data"
    }
   ],
   "source": [
    "feat_importances = pd.Series(rfc_cv.best_estimator_.feature_importances_, index = train_x.columns)\n",
    "feat_importances_ordered = feat_importances.nlargest(100)\n",
    "feat_importances_ordered.plot(kind='bar')"
   ]
  },
  {
   "cell_type": "code",
   "execution_count": 65,
   "metadata": {},
   "outputs": [
    {
     "data": {
      "text/plain": [
       "{'n_estimators': 13,\n",
       " 'min_samples_leaf': 15,\n",
       " 'max_depth': 11,\n",
       " 'class_weight': 'balanced_subsample'}"
      ]
     },
     "execution_count": 65,
     "metadata": {},
     "output_type": "execute_result"
    }
   ],
   "source": [
    "rfc_cv.best_params_"
   ]
  },
  {
   "cell_type": "code",
   "execution_count": 66,
   "metadata": {},
   "outputs": [],
   "source": [
    "pred_y = rfc_cv.predict(val_x)"
   ]
  },
  {
   "cell_type": "code",
   "execution_count": 67,
   "metadata": {},
   "outputs": [
    {
     "name": "stdout",
     "output_type": "stream",
     "text": [
      "=========================== \n",
      "\n",
      " Confusion Matrix\n",
      "\n",
      " [[380 264]\n",
      " [446 789]]\n",
      "\n",
      "\n",
      "========================== \n",
      "\n",
      " Accuracy Score\n",
      "\n",
      " 0.6221394358701436\n",
      "\n",
      "\n",
      "========================== \n",
      "\n",
      " F1 Score for Class 0\n",
      "\n",
      " 0.5170068027210885\n",
      "\n",
      "\n",
      "========================== \n",
      "\n",
      " F1 Score for Class 1\n",
      "\n",
      " 0.6896853146853147\n"
     ]
    }
   ],
   "source": [
    "print(\"=========================== \\n\\n Confusion Matrix\\n\\n\", confusion_matrix(val_y, pred_y))\n",
    "print(\"\\n\\n========================== \\n\\n Accuracy Score\\n\\n\", accuracy_score(val_y, pred_y))\n",
    "print(\"\\n\\n========================== \\n\\n F1 Score for Class 0\\n\\n\", f1_score(val_y, pred_y, pos_label=0))\n",
    "print(\"\\n\\n========================== \\n\\n F1 Score for Class 1\\n\\n\", f1_score(val_y, pred_y, pos_label=1))"
   ]
  },
  {
   "cell_type": "markdown",
   "metadata": {},
   "source": [
    "### Stacking"
   ]
  },
  {
   "cell_type": "code",
   "execution_count": 69,
   "metadata": {},
   "outputs": [],
   "source": [
    "from sklearn.linear_model import LogisticRegression\n",
    "from sklearn.svm import SVC\n",
    "from sklearn.tree import DecisionTreeClassifier"
   ]
  },
  {
   "cell_type": "code",
   "execution_count": 73,
   "metadata": {},
   "outputs": [],
   "source": [
    "#Decision Tree\n",
    "\n",
    "dtc = DecisionTreeClassifier()\n",
    "\n",
    "dtc.fit(train_x,train_y)\n",
    "\n",
    "y_pred_train_dtc = dtc.predict(train_x)\n",
    "y_pred_test_dtc = dtc.predict(val_x)"
   ]
  },
  {
   "cell_type": "code",
   "execution_count": 74,
   "metadata": {},
   "outputs": [
    {
     "name": "stderr",
     "output_type": "stream",
     "text": [
      "C:\\Users\\UrMili\\Anaconda3\\lib\\site-packages\\sklearn\\linear_model\\logistic.py:433: FutureWarning: Default solver will be changed to 'lbfgs' in 0.22. Specify a solver to silence this warning.\n",
      "  FutureWarning)\n"
     ]
    }
   ],
   "source": [
    "#Logistic regression\n",
    "\n",
    "lrc = LogisticRegression()\n",
    "\n",
    "lrc.fit(train_x,train_y)\n",
    "\n",
    "y_pred_train_lrc = lrc.predict(train_x)\n",
    "y_pred_test_lrc = lrc.predict(val_x)"
   ]
  },
  {
   "cell_type": "code",
   "execution_count": 75,
   "metadata": {},
   "outputs": [],
   "source": [
    "classifier = SVC(kernel = 'linear', random_state = 0)\n",
    "\n",
    "classifier.fit(train_x, train_y)\n",
    "\n",
    "y_pred_train_svc = classifier.predict(train_x)\n",
    "y_pred_test_svc = classifier.predict(val_x)"
   ]
  },
  {
   "cell_type": "code",
   "execution_count": 72,
   "metadata": {},
   "outputs": [],
   "source": [
    "from scipy.stats import mode"
   ]
  },
  {
   "cell_type": "code",
   "execution_count": 76,
   "metadata": {},
   "outputs": [],
   "source": [
    "stack_train = pd.DataFrame([y_pred_train_dtc,y_pred_train_lrc, y_pred_train_svc])\n",
    "stack_test = pd.DataFrame([y_pred_test_dtc,y_pred_test_lrc, y_pred_test_svc])"
   ]
  },
  {
   "cell_type": "code",
   "execution_count": 77,
   "metadata": {},
   "outputs": [],
   "source": [
    "stack_train = stack_train.T\n",
    "stack_test = stack_test.T"
   ]
  },
  {
   "cell_type": "code",
   "execution_count": 78,
   "metadata": {},
   "outputs": [],
   "source": [
    "stack_train.columns = ['y_pred_train_dtc','y_pred_train_lrc','y_pred_train_svc']\n",
    "stack_train.columns = ['y_pred_test_dtc','y_pred_test_lrc','y_pred_test_svc']"
   ]
  },
  {
   "cell_type": "code",
   "execution_count": 79,
   "metadata": {},
   "outputs": [
    {
     "name": "stdout",
     "output_type": "stream",
     "text": [
      "(7514, 3)\n",
      "(1879, 3)\n"
     ]
    }
   ],
   "source": [
    "print(stack_train.shape)\n",
    "print(stack_test.shape)"
   ]
  },
  {
   "cell_type": "code",
   "execution_count": 80,
   "metadata": {},
   "outputs": [
    {
     "name": "stderr",
     "output_type": "stream",
     "text": [
      "C:\\Users\\UrMili\\Anaconda3\\lib\\site-packages\\sklearn\\linear_model\\logistic.py:433: FutureWarning: Default solver will be changed to 'lbfgs' in 0.22. Specify a solver to silence this warning.\n",
      "  FutureWarning)\n"
     ]
    }
   ],
   "source": [
    "dtc = LogisticRegression()\n",
    "\n",
    "dtc.fit(stack_train,train_y)\n",
    "\n",
    "stacked_pred_train = dtc.predict(stack_train)\n",
    "stacked_pred_test = dtc.predict(stack_test)"
   ]
  },
  {
   "cell_type": "code",
   "execution_count": 81,
   "metadata": {},
   "outputs": [
    {
     "name": "stdout",
     "output_type": "stream",
     "text": [
      "TRAIN DATA ACCURACY 0.8749001863188715\n",
      "\n",
      "Train data f1-score for class '1' 0.8253437383872166\n",
      "\n",
      "Train data f1-score for class '2' 0.9025502799087705\n",
      "\n",
      "\n",
      "--------------------------------------\n",
      "\n",
      "\n",
      "TEST DATA ACCURACY 0.5806279936136243\n",
      "\n",
      "Test data f1-score for class '1' 0.4289855072463768\n",
      "\n",
      "Test data f1-score for class '2' 0.6686291000841043\n"
     ]
    }
   ],
   "source": [
    "print(\"TRAIN DATA ACCURACY\",accuracy_score(train_y,stacked_pred_train))\n",
    "print(\"\\nTrain data f1-score for class '1'\",f1_score(train_y,stacked_pred_train,pos_label=0))\n",
    "print(\"\\nTrain data f1-score for class '2'\",f1_score(train_y,stacked_pred_train,pos_label=1))\n",
    "\n",
    "### Test data accuracy\n",
    "print(\"\\n\\n--------------------------------------\\n\\n\")\n",
    "print(\"TEST DATA ACCURACY\",accuracy_score(val_y,stacked_pred_test))\n",
    "print(\"\\nTest data f1-score for class '1'\",f1_score(val_y,stacked_pred_test,pos_label=0))\n",
    "print(\"\\nTest data f1-score for class '2'\",f1_score(val_y,stacked_pred_test,pos_label=1))"
   ]
  },
  {
   "cell_type": "markdown",
   "metadata": {},
   "source": [
    "## Naives Bayes"
   ]
  },
  {
   "cell_type": "code",
   "execution_count": 29,
   "metadata": {},
   "outputs": [
    {
     "data": {
      "text/plain": [
       "GaussianNB(priors=None, var_smoothing=1e-09)"
      ]
     },
     "execution_count": 29,
     "metadata": {},
     "output_type": "execute_result"
    }
   ],
   "source": [
    "from sklearn.naive_bayes import GaussianNB\n",
    "classifier = GaussianNB()\n",
    "classifier.fit(train_x, train_y)"
   ]
  },
  {
   "cell_type": "code",
   "execution_count": 35,
   "metadata": {},
   "outputs": [],
   "source": [
    "pred_y = classifier.predict(val_x)"
   ]
  },
  {
   "cell_type": "code",
   "execution_count": 36,
   "metadata": {},
   "outputs": [
    {
     "name": "stdout",
     "output_type": "stream",
     "text": [
      "=========================== \n",
      "\n",
      " Confusion Matrix\n",
      "\n",
      " [[ 124  520]\n",
      " [ 148 1087]]\n",
      "\n",
      "\n",
      "========================== \n",
      "\n",
      " Accuracy Score\n",
      "\n",
      " 0.6444917509313465\n",
      "\n",
      "\n",
      "========================== \n",
      "\n",
      " F1 Score for Class 0\n",
      "\n",
      " 0.27074235807860264\n",
      "\n",
      "\n",
      "========================== \n",
      "\n",
      " F1 Score for Class 1\n",
      "\n",
      " 0.7649542575650952\n"
     ]
    }
   ],
   "source": [
    "print(\"=========================== \\n\\n Confusion Matrix\\n\\n\", confusion_matrix(val_y, pred_y))\n",
    "print(\"\\n\\n========================== \\n\\n Accuracy Score\\n\\n\", accuracy_score(val_y, pred_y))\n",
    "print(\"\\n\\n========================== \\n\\n F1 Score for Class 0\\n\\n\", f1_score(val_y, pred_y, pos_label=0))\n",
    "print(\"\\n\\n========================== \\n\\n F1 Score for Class 1\\n\\n\", f1_score(val_y, pred_y, pos_label=1))"
   ]
  },
  {
   "cell_type": "code",
   "execution_count": null,
   "metadata": {},
   "outputs": [],
   "source": []
  }
 ],
 "metadata": {
  "kernelspec": {
   "display_name": "Python 3",
   "language": "python",
   "name": "python3"
  },
  "language_info": {
   "codemirror_mode": {
    "name": "ipython",
    "version": 3
   },
   "file_extension": ".py",
   "mimetype": "text/x-python",
   "name": "python",
   "nbconvert_exporter": "python",
   "pygments_lexer": "ipython3",
   "version": "3.7.3"
  },
  "toc": {
   "base_numbering": 1,
   "nav_menu": {},
   "number_sections": true,
   "sideBar": true,
   "skip_h1_title": false,
   "title_cell": "Table of Contents",
   "title_sidebar": "Contents",
   "toc_cell": false,
   "toc_position": {},
   "toc_section_display": true,
   "toc_window_display": true
  },
  "varInspector": {
   "cols": {
    "lenName": 16,
    "lenType": 16,
    "lenVar": 40
   },
   "kernels_config": {
    "python": {
     "delete_cmd_postfix": "",
     "delete_cmd_prefix": "del ",
     "library": "var_list.py",
     "varRefreshCmd": "print(var_dic_list())"
    },
    "r": {
     "delete_cmd_postfix": ") ",
     "delete_cmd_prefix": "rm(",
     "library": "var_list.r",
     "varRefreshCmd": "cat(var_dic_list()) "
    }
   },
   "types_to_exclude": [
    "module",
    "function",
    "builtin_function_or_method",
    "instance",
    "_Feature"
   ],
   "window_display": false
  }
 },
 "nbformat": 4,
 "nbformat_minor": 2
}
